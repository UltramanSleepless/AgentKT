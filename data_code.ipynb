{
 "cells": [
  {
   "cell_type": "markdown",
   "id": "4de25735",
   "metadata": {},
   "source": [
    "# 1.合并所有题目和用户"
   ]
  },
  {
   "cell_type": "markdown",
   "id": "6f6341d2",
   "metadata": {},
   "source": [
    "python /data2/liyu/KT/OKT/data_merge.py \\\n",
    "  /data2/liyu/KT/OKT/Project_CodeNet/metadata \\\n",
    "  -o /data2/liyu/KT/OKT/Project_CodeNet/userdata"
   ]
  },
  {
   "cell_type": "markdown",
   "id": "58607d1c",
   "metadata": {},
   "source": [
    "# 2. 按照代码语言分类"
   ]
  },
  {
   "cell_type": "code",
   "execution_count": null,
   "metadata": {},
   "outputs": [],
   "source": []
  },
  {
   "cell_type": "code",
   "execution_count": null,
   "metadata": {},
   "outputs": [],
   "source": []
  },
  {
   "cell_type": "code",
   "execution_count": null,
   "metadata": {},
   "outputs": [],
   "source": []
  }
 ],
 "metadata": {
  "kernelspec": {
   "display_name": "agentkt",
   "language": "python",
   "name": "python3"
  },
  "language_info": {
   "name": "python",
   "version": "3.8.0"
  }
 },
 "nbformat": 4,
 "nbformat_minor": 5
}
